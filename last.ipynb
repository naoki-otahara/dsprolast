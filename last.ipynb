{
 "cells": [
  {
   "cell_type": "code",
   "execution_count": 2,
   "metadata": {},
   "outputs": [],
   "source": [
    "import requests\n",
    "from bs4 import BeautifulSoup\n",
    "import sqlite3\n"
   ]
  },
  {
   "cell_type": "code",
   "execution_count": 3,
   "metadata": {},
   "outputs": [],
   "source": [
    "# スクレイピングするURL\n",
    "url = \"https://www.data.jma.go.jp/obd/stats/etrn/view/daily_s1.php?prec_no=44&block_no=47662&year=2023&month=12&day=&view=a2\"\n"
   ]
  },
  {
   "cell_type": "code",
   "execution_count": 4,
   "metadata": {},
   "outputs": [],
   "source": [
    "# リクエストを送信してHTMLを取得\n",
    "response = requests.get(url)\n",
    "html_content = response.content\n",
    "\n",
    "# BeautifulSoupオブジェクトを作成\n",
    "soup = BeautifulSoup(html_content, 'html.parser')\n"
   ]
  },
  {
   "cell_type": "code",
   "execution_count": 5,
   "metadata": {},
   "outputs": [],
   "source": [
    "# テーブル内の全ての行を取得\n",
    "table_rows = soup.find_all('tr', class_='mtx')\n",
    "\n",
    "# データを格納するためのリスト\n",
    "data_list = []\n",
    "\n",
    "# 各行からデータを抽出\n",
    "for row in table_rows:\n",
    "    # 日付を取得\n",
    "    date_column = row.find('a')\n",
    "    date = date_column.text.strip() if date_column else 'N/A'\n",
    "\n",
    "    # 各データ列を取得\n",
    "    columns = row.find_all('td', class_='data_0_0')"
   ]
  },
  {
   "cell_type": "code",
   "execution_count": 6,
   "metadata": {},
   "outputs": [],
   "source": [
    "# 各行からデータを抽出\n",
    "for row in table_rows:\n",
    "    # 日付を取得\n",
    "    date_column = row.find('a')\n",
    "    date = date_column.text.strip() if date_column else 'N/A'\n",
    "\n",
    "    # 各データ列を取得\n",
    "    columns = row.find_all('td', class_='data_0_0')\n",
    "\n",
    "    # 必要なデータがあるか確認\n",
    "    if len(columns) >= 17:\n",
    "        # 各データを取得\n",
    "        pressure = columns[1].text.strip()\n",
    "        rainfall = columns[4].text.strip()\n",
    "        temp_avg = columns[9].text.strip()\n",
    "        temp_high = columns[10].text.strip()\n",
    "        temp_low = columns[13].text.strip()\n",
    "        vapor_pressure = columns[15].text.strip()\n",
    "        humidity = columns[16].text.strip()\n",
    "\n",
    "        # データをリストに追加\n",
    "        data_list.append([date, pressure, rainfall, temp_avg, temp_high, temp_low, vapor_pressure, humidity])"
   ]
  }
 ],
 "metadata": {
  "kernelspec": {
   "display_name": ".venv",
   "language": "python",
   "name": "python3"
  },
  "language_info": {
   "codemirror_mode": {
    "name": "ipython",
    "version": 3
   },
   "file_extension": ".py",
   "mimetype": "text/x-python",
   "name": "python",
   "nbconvert_exporter": "python",
   "pygments_lexer": "ipython3",
   "version": "3.9.10"
  }
 },
 "nbformat": 4,
 "nbformat_minor": 2
}
